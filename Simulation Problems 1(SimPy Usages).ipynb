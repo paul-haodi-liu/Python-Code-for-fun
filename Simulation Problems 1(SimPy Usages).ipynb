{
 "cells": [
  {
   "cell_type": "code",
   "execution_count": 1,
   "metadata": {
    "colab": {
     "base_uri": "https://localhost:8080/",
     "height": 105
    },
    "colab_type": "code",
    "executionInfo": {
     "elapsed": 5300,
     "status": "ok",
     "timestamp": 1576523286724,
     "user": {
      "displayName": "HaoDi Liu",
      "photoUrl": "https://lh3.googleusercontent.com/a-/AAuE7mDG8TIgSHQobFynuPn0Eo_0TiH7BVlZ-iKOEEhS=s64",
      "userId": "13590317772000812711"
     },
     "user_tz": 300
    },
    "id": "7EyI11SeiXGt",
    "outputId": "0251b4c3-6313-44a1-a855-7305c3e9e92a"
   },
   "outputs": [
    {
     "name": "stdout",
     "output_type": "stream",
     "text": [
      "Requirement already satisfied: simpy in /anaconda3/lib/python3.6/site-packages (3.0.11)\n",
      "\u001b[31mxarray 0.15.1 has requirement numpy>=1.15, but you'll have numpy 1.14.3 which is incompatible.\u001b[0m\n",
      "\u001b[31mxarray 0.15.1 has requirement pandas>=0.25, but you'll have pandas 0.23.0 which is incompatible.\u001b[0m\n",
      "\u001b[33mYou are using pip version 10.0.1, however version 20.1 is available.\n",
      "You should consider upgrading via the 'pip install --upgrade pip' command.\u001b[0m\n"
     ]
    }
   ],
   "source": [
    "#This imports all the packages you need (you might not use some of them)\n",
    "#Please run this first\n",
    "#we will need this for array operation\n",
    "import numpy as np\n",
    "#we will need this for plots\n",
    "import matplotlib.pyplot as plt\n",
    "#We will need this to calculate factorial on array\n",
    "import scipy.misc as spm\n",
    "#We will need this to do calculations related to distribution\n",
    "import scipy.stats as spst\n",
    "\n",
    "#We will need this to calculate factorial on array\n",
    "import scipy.special as spsp\n",
    "\n",
    "#Sympy\n",
    "import sympy \n",
    "\n",
    "#simpy\n",
    "!pip install simpy\n",
    "import simpy"
   ]
  },
  {
   "cell_type": "markdown",
   "metadata": {
    "colab_type": "text",
    "id": "XvtUH--rlbrp"
   },
   "source": [
    "# Exercise 1 [28 Points]"
   ]
  },
  {
   "cell_type": "markdown",
   "metadata": {
    "colab_type": "text",
    "id": "Zm5_S4dXlfAR"
   },
   "source": [
    "In small company has 10 machines. At the beginning the machines are all working normally. For every machine, after $\\Delta t$ hours of operating, the machine will break down. $\\Delta t \\sim Exp(\\lambda=0.1)$.\n",
    "\n",
    "If a machine breaks down, this machine will immediately be taken to the maintenance room. The maintenance room can only fix one machine at a time. The machines will be fixed following FIFO. The time it takes to fix the machine follows $Exp(\\lambda=1)$.\n",
    "\n",
    "After the machine is fixed, it will be sent back to the operation room immediately to perform tasks.  After $\\Delta t$ hours of operating, the machine will break down again. Again, $\\Delta t \\sim Exp(\\lambda=0.1)$.\n"
   ]
  },
  {
   "cell_type": "markdown",
   "metadata": {
    "colab_type": "text",
    "id": "nWfcuRormm86"
   },
   "source": [
    "##Q1. [14 points]\n",
    "\n",
    "Simulate the system using `simpy`. The simulation should stop when the number of operating machines goes below 7. \n",
    "\n",
    "* Run the system 1000 times. Plot the distribution of the time it takes for the number of operating machines to go below 7.\n"
   ]
  },
  {
   "cell_type": "code",
   "execution_count": 2,
   "metadata": {
    "colab": {
     "base_uri": "https://localhost:8080/",
     "height": 296
    },
    "colab_type": "code",
    "executionInfo": {
     "elapsed": 5032,
     "status": "ok",
     "timestamp": 1576523287575,
     "user": {
      "displayName": "HaoDi Liu",
      "photoUrl": "https://lh3.googleusercontent.com/a-/AAuE7mDG8TIgSHQobFynuPn0Eo_0TiH7BVlZ-iKOEEhS=s64",
      "userId": "13590317772000812711"
     },
     "user_tz": 300
    },
    "id": "UIRaui_Ko25R",
    "outputId": "d4bc8148-5838-45ac-80d4-f7a7076fabd6"
   },
   "outputs": [
    {
     "data": {
      "image/png": "[encoded data removed]",
      "text/plain": [
       "<Figure size 432x288 with 1 Axes>"
      ]
     },
     "metadata": {},
     "output_type": "display_data"
    },
    {
     "data": {
      "text/plain": [
       "16.342321064445972"
      ]
     },
     "execution_count": 2,
     "metadata": {},
     "output_type": "execute_result"
    }
   ],
   "source": [
    "#below7 is an event that will be triggered when the number of machine goes below 7\n",
    "#repairman handles the maintanance of the machines\n",
    "#breaktime tracks the time when the simulation stops\n",
    "#TotalM tracks the total number of operating machines.\n",
    "\n",
    "#optional function [depends on how you implement the system, you might not need this function]\n",
    "#def initialization(env,below7,repairman,breaktime,TotalM):\n",
    " \n",
    "\n",
    "#This function models the operation of each machine\n",
    "def operating(env,below7,repairman,breaktime,TotalM):\n",
    "  \n",
    "    lmbda=0.1\n",
    "    #print(\"The number of operating machines now is\", len(TotalM))\n",
    "    while True:\n",
    "        time_until_break = np.min(-1/lmbda*np.log(np.random.rand(len(TotalM))))\n",
    "        yield env.timeout(time_until_break)\n",
    "        TotalM.pop()\n",
    "        #print(\"The number of operating machines now is\", len(TotalM))\n",
    "        if (len(TotalM) < 7):\n",
    "            below7.succeed()\n",
    "            #print('The number of operating machines goes below 7.')\n",
    "            breaktime.append(env.now)\n",
    "        env.process(maintenance(env,repairman,TotalM))\n",
    "\n",
    "#more functions\n",
    "\n",
    "def maintenance(env,repairman,TotalM):\n",
    "    #print(\"The number of operating machines at the start of service process is\", len(TotalM))\n",
    "    rqt=repairman.request()\n",
    "    yield rqt\n",
    "    lmbda1 = 1\n",
    "    repair_time = -1/lmbda1*np.log(np.random.rand())\n",
    "    yield env.timeout(repair_time)\n",
    "    repairman.release(rqt)\n",
    "    TotalM.append(1)\n",
    "    #print(\"A machine is repaired and the number of working machines now is\", len(TotalM))\n",
    "  \n",
    "  \n",
    "#define system simulation    \n",
    "def system():\n",
    "    env = simpy.Environment()\n",
    "    repairman = simpy.Resource(env)\n",
    "    breaktime = [env.now]\n",
    "    TotalM = [1,1,1,1,1,1,1,1,1,1]\n",
    "    below7 = env.event()\n",
    "    env.process(operating(env,below7,repairman,breaktime,TotalM))\n",
    "    env.run(until = below7)\n",
    "    #print(\"The simulation has terminated!\", breaktime)\n",
    "    return breaktime[1] - breaktime[0]\n",
    "  \n",
    "simu_times = [system() for i in range(1000)]\n",
    "plt.hist(simu_times)\n",
    "plt.xlabel(\"simulation times\")\n",
    "plt.ylabel(\"density/mass\")\n",
    "plt.show()\n",
    "np.mean(simu_times)"
   ]
  },
  {
   "cell_type": "markdown",
   "metadata": {
    "colab_type": "text",
    "id": "9KhjdIz7ERHV"
   },
   "source": [
    "##Q2.  [14 points]\n",
    "\n",
    "The maintenance room will shut down for 0.2 hours after every hour. During this time, the repairmen will not fix any machine. After the maintenance room reopens, the repairmen will resume fixing the machines. If at the time of break, the repairmen have taken $x'$ period of time to fix a machine and the amount of the time to fix the machine is $x$, the machine will now need $x-x'$ amount of time to get fixed.\n",
    "\n",
    "* Run the system 1000 times. Plot the distribution of the time it takes for the number of operating machines to go below 7.\n",
    "\n",
    "[hint: you might find defining the maintenance room as a preemptive resource helpful]"
   ]
  },
  {
   "cell_type": "code",
   "execution_count": 3,
   "metadata": {
    "colab": {
     "base_uri": "https://localhost:8080/",
     "height": 296
    },
    "colab_type": "code",
    "executionInfo": {
     "elapsed": 1775,
     "status": "ok",
     "timestamp": 1576523322926,
     "user": {
      "displayName": "HaoDi Liu",
      "photoUrl": "https://lh3.googleusercontent.com/a-/AAuE7mDG8TIgSHQobFynuPn0Eo_0TiH7BVlZ-iKOEEhS=s64",
      "userId": "13590317772000812711"
     },
     "user_tz": 300
    },
    "id": "hVGuqkFhLPJX",
    "outputId": "16b816ca-35a2-4987-d0b4-e15c557896a2"
   },
   "outputs": [
    {
     "data": {
      "image/png": "[encoded data removed]",
      "text/plain": [
       "<Figure size 432x288 with 1 Axes>"
      ]
     },
     "metadata": {},
     "output_type": "display_data"
    },
    {
     "data": {
      "text/plain": [
       "13.154434698604293"
      ]
     },
     "execution_count": 3,
     "metadata": {},
     "output_type": "execute_result"
    }
   ],
   "source": [
    "#below7 is an event that will be triggered when the number of machine goes below 7\n",
    "#repairman handles the maintanance of the machines\n",
    "#breaktime tracks the time when the simulation stops\n",
    "#TotalM tracks the total number of operating machines.\n",
    "\n",
    "#optional function [depends on how you implement the system, you might not need this function]\n",
    "#def initialization(env,below7,repairman,breaktime,TotalM):\n",
    " \n",
    "\n",
    "#This function models the operation of each machine\n",
    "def operating(env,below7,repairman,breaktime,TotalM):\n",
    "    lmbda=0.1\n",
    "    env.process(shut(env,repairman))\n",
    "    #print(\"The initial number of operating machines is\", len(TotalM))\n",
    "    i = 0\n",
    "    while True:\n",
    "        i = i + 1\n",
    "        time_until_break = np.min(-1/lmbda*np.log(np.random.rand(len(TotalM))))\n",
    "        yield env.timeout(time_until_break)\n",
    "        TotalM.pop()\n",
    "        #print(\"The number of operating machines now is\", len(TotalM))\n",
    "        if (len(TotalM) < 7):\n",
    "            below7.succeed()\n",
    "            #print('The number of operating machines goes below 7.')\n",
    "            breaktime.append(env.now)\n",
    "        priority = 0\n",
    "        preempt = False\n",
    "        env.process(maintenance(env,repairman,TotalM, priority, preempt, i))\n",
    "\n",
    "#more functions\n",
    "def shut(env,repairman):\n",
    "  \n",
    "    while True:\n",
    "        # maintenance room works for one hour\n",
    "        #print(\"The maintenance room starts to work at\", env.now)\n",
    "        yield env.timeout(1)\n",
    "        # shut down for 0.2 hours\n",
    "        #print(\"The maintenance room is about to close at\", env.now)\n",
    "        shut_down = repairman.request(priority=-2, preempt=True)\n",
    "        yield shut_down\n",
    "        yield env.timeout(0.2)\n",
    "        #print(\"The shut-down is over and the maintenance room is about to reopen at\", env.now)\n",
    "        repairman.release(shut_down)\n",
    "\n",
    "def maintenance(env,repairman,TotalM,priority,preempt, i):\n",
    "\n",
    "    lmbda1 = 1\n",
    "    repair_time = -1/lmbda1*np.log(np.random.rand())\n",
    "    while True:\n",
    "        try:\n",
    "            #print(\"The number of operating machines at the start of service process is\", len(TotalM))\n",
    "            rqt=repairman.request(priority=priority, preempt=preempt)\n",
    "            yield rqt\n",
    "            # record the time when rqt starts to be served(the broken machine starts to be repaired)\n",
    "            start_time = env.now\n",
    "            #print(\"The remaining repair time of the {}th broken machine is {}\".format(i, repair_time))\n",
    "            #print(\"The time when the {}th broken machine starts to be repaired is {}\".format(i,start_time))\n",
    "            yield env.timeout(repair_time)\n",
    "            repairman.release(rqt)\n",
    "            TotalM.append(1)\n",
    "            #print(\"The time when the {}th broken machine finishes to be repaired is {}\".format(i,env.now))\n",
    "            #print(\"A machine is repaired and the number of working machines now is\", len(TotalM))\n",
    "            env.exit()\n",
    "            \n",
    "        except simpy.Interrupt as inter:\n",
    "            if type(inter.cause)==simpy.resources.resource.Preempted:\n",
    "                priority = -1\n",
    "                elapsed_time = env.now - start_time\n",
    "                #print(\"The time when the repairment of the {}th machine is interrupted is {}\".format(i,env.now))\n",
    "                #print(\"The repairment of the {}th machine has taken {}\".format(i,elapsed_time))\n",
    "                repair_time = repair_time - elapsed_time\n",
    "\n",
    "#define system simulation    \n",
    "def system():\n",
    "  \n",
    "    env = simpy.Environment()\n",
    "    repairman = simpy.PreemptiveResource(env)\n",
    "    breaktime = [env.now]\n",
    "    TotalM = [1,1,1,1,1,1,1,1,1,1]\n",
    "    below7 = env.event()\n",
    "    env.process(operating(env,below7,repairman,breaktime,TotalM))\n",
    "    env.run(until = below7)\n",
    "    #print(\"The simulation has terminated!\", breaktime)\n",
    "    return breaktime[1] - breaktime[0]\n",
    "\n",
    "simu_times = [system() for i in range(1000)]\n",
    "plt.hist(simu_times)\n",
    "plt.xlabel(\"simulation times\")\n",
    "plt.ylabel(\"density/mass\")\n",
    "plt.show()\n",
    "np.mean(simu_times)"
   ]
  },
  {
   "cell_type": "markdown",
   "metadata": {
    "colab_type": "text",
    "id": "hZQYGmM7rpWS"
   },
   "source": [
    "#Exercise 2 [32 Points]\n",
    "\n"
   ]
  },
  {
   "cell_type": "markdown",
   "metadata": {
    "colab_type": "text",
    "id": "626h4lo_4cRC"
   },
   "source": [
    "##Setting\n",
    "\n",
    "A server is operates to handle the homogeneous tasks. \n",
    "\n",
    "Tasks arrive following a non-homonogeous Poisson process with $\\lambda=t\\%5$ if $t\\%10<5$ and $\\lambda=5-t\\%5$ if $t\\%10>=5$."
   ]
  },
  {
   "cell_type": "markdown",
   "metadata": {
    "colab_type": "text",
    "id": "ZJO21gBupMBF"
   },
   "source": [
    "##Q1 [8 Points]\n",
    "* Visualize the arrival rate between 0 and 50.\n",
    "* Based on thinning method, generate the arrival times between 0 and 50. Do not use `simpy`. \n",
    "* Plot the distribution of the arrival times."
   ]
  },
  {
   "cell_type": "code",
   "execution_count": 4,
   "metadata": {
    "colab": {
     "base_uri": "https://localhost:8080/",
     "height": 279
    },
    "colab_type": "code",
    "executionInfo": {
     "elapsed": 611,
     "status": "ok",
     "timestamp": 1576523358616,
     "user": {
      "displayName": "HaoDi Liu",
      "photoUrl": "https://lh3.googleusercontent.com/a-/AAuE7mDG8TIgSHQobFynuPn0Eo_0TiH7BVlZ-iKOEEhS=s64",
      "userId": "13590317772000812711"
     },
     "user_tz": 300
    },
    "id": "8yf7mbN7y1Ac",
    "outputId": "ab782e01-516d-4226-b7e0-d05d295e69d6"
   },
   "outputs": [
    {
     "data": {
      "image/png": "[encoded data removed]",
      "text/plain": [
       "<Figure size 432x288 with 1 Axes>"
      ]
     },
     "metadata": {},
     "output_type": "display_data"
    }
   ],
   "source": [
    "T=50\n",
    "t = np.linspace(0,T,5000)\n",
    "lmbda = np.empty(len(t))\n",
    "lmbda[t%10<5] = t[t%10<5]%5\n",
    "lmbda[t%10>=5] = 5-t[t%10>=5]%5\n",
    "plt.plot(t,lmbda)\n",
    "plt.xlabel(\"t\")\n",
    "plt.ylabel(\"$\\lambda$\")\n",
    "plt.show()"
   ]
  },
  {
   "cell_type": "code",
   "execution_count": 5,
   "metadata": {
    "colab": {
     "base_uri": "https://localhost:8080/",
     "height": 279
    },
    "colab_type": "code",
    "executionInfo": {
     "elapsed": 483,
     "status": "ok",
     "timestamp": 1576523360588,
     "user": {
      "displayName": "HaoDi Liu",
      "photoUrl": "https://lh3.googleusercontent.com/a-/AAuE7mDG8TIgSHQobFynuPn0Eo_0TiH7BVlZ-iKOEEhS=s64",
      "userId": "13590317772000812711"
     },
     "user_tz": 300
    },
    "id": "xp-I7NRxUPbL",
    "outputId": "4215836b-ba61-40c9-acef-ca033a4aaeac"
   },
   "outputs": [
    {
     "data": {
      "image/png": "[encoded data removed]",
      "text/plain": [
       "<Figure size 432x288 with 1 Axes>"
      ]
     },
     "metadata": {},
     "output_type": "display_data"
    }
   ],
   "source": [
    "Lmbda_max = np.max(lmbda)\n",
    "def ArrivalTimes():\n",
    "    #stores the accepted arrivals\n",
    "    arrival_times = np.empty(0)\n",
    "    t = (-1/Lmbda_max)*np.log(np.random.rand())\n",
    "\n",
    "    while t<T:\n",
    "        if t%10<5:\n",
    "            AR = (t%5)/Lmbda_max\n",
    "        else:\n",
    "            AR = (5-t%5)/Lmbda_max\n",
    "\n",
    "        if (np.random.rand()<AR):\n",
    "            arrival_times = np.append(arrival_times, t)\n",
    "\n",
    "        t = t + (-1/Lmbda_max)*np.log(np.random.rand())\n",
    "    return arrival_times\n",
    "\n",
    "arrival_times = ArrivalTimes()\n",
    "plt.hist(arrival_times,density=True,bins=20)\n",
    "plt.xlabel(\"arrival times\")\n",
    "plt.ylabel(\"density/mass\")\n",
    "plt.show()"
   ]
  },
  {
   "cell_type": "markdown",
   "metadata": {
    "colab_type": "text",
    "id": "zHayy-cfrsbq"
   },
   "source": [
    "###Q2 [8 Points]\n",
    "\n",
    "Now, assume that the service time follows a uniform distribution between 1 and 3. The tasks follows FIFO and handled by the single server.\n",
    "\n",
    "\n",
    "Use `simpy` to simulate the system until t=50. Notice that you have generated the arrival times, it is very simple for you to generate the inter-arrival times. \n",
    "\n",
    "* Run the system 500 times and plot the distribution of the average time a task spent in the system for all the tasks that are completed.\n",
    "* Compute the 95% confidence interval for the population mean of the average time in the system.\n",
    "* Compute the width of the confidence interval for the population mean of the average time in the system.\n"
   ]
  },
  {
   "cell_type": "code",
   "execution_count": 6,
   "metadata": {
    "colab": {
     "base_uri": "https://localhost:8080/",
     "height": 313
    },
    "colab_type": "code",
    "executionInfo": {
     "elapsed": 2767,
     "status": "ok",
     "timestamp": 1576523365780,
     "user": {
      "displayName": "HaoDi Liu",
      "photoUrl": "https://lh3.googleusercontent.com/a-/AAuE7mDG8TIgSHQobFynuPn0Eo_0TiH7BVlZ-iKOEEhS=s64",
      "userId": "13590317772000812711"
     },
     "user_tz": 300
    },
    "id": "FjCYe6Yr27jT",
    "outputId": "27183e35-7c39-4362-b2bd-1ec4b3a46100"
   },
   "outputs": [
    {
     "data": {
      "image/png": "[encoded data removed]",
      "text/plain": [
       "<Figure size 432x288 with 1 Axes>"
      ]
     },
     "metadata": {},
     "output_type": "display_data"
    },
    {
     "name": "stdout",
     "output_type": "stream",
     "text": [
      "The 95% confidence interval is [20.75268319721749, 20.99917611064016]\n",
      "The width of the confidence interval is 0.24649291342267077\n"
     ]
    }
   ],
   "source": [
    "def arrival(env,server,inter_arrivals,servicetimes,departtimes):\n",
    "    for i in range(len(inter_arrivals)):\n",
    "        yield env.timeout(inter_arrivals[i])\n",
    "        env.process(service(env,server,servicetimes,departtimes,i))\n",
    "\n",
    "def service(env,server,servicetimes,departtimes,i):\n",
    "    rqt=server.request()\n",
    "    yield rqt\n",
    "    yield env.timeout(servicetimes[i])\n",
    "    server.release(rqt)\n",
    "    departtimes.append(env.now)\n",
    "\n",
    "def system_q2():\n",
    "\n",
    "    env=simpy.Environment()\n",
    "    server=simpy.Resource(env)\n",
    "    arrival_times = ArrivalTimes()\n",
    "    inter_arrivals = np.diff(np.insert(arrival_times,0,0))\n",
    "    num_arrivals = len(arrival_times)\n",
    "    u = np.random.rand(num_arrivals)\n",
    "    servicetimes=2*u+1\n",
    "    departtimes=[]\n",
    "    env.process(arrival(env,server,inter_arrivals,servicetimes,departtimes))\n",
    "    env.run(until=50)\n",
    "    departtimes = np.array(departtimes)\n",
    "    average_time=np.mean(departtimes-arrival_times[0:len(departtimes)])\n",
    "  \n",
    "    return average_time\n",
    "\n",
    "N=500\n",
    "ATs=[system_q2() for i in range(N)]\n",
    "ATs = np.array(ATs)\n",
    "plt.hist(ATs)\n",
    "plt.xlabel(\"average times\")\n",
    "plt.ylabel(\"density/mass\")\n",
    "plt.show()\n",
    "mean=np.mean(ATs)\n",
    "std=np.std(ATs,ddof=1)\n",
    "lower=mean-1.96*std/N**0.5\n",
    "upper=mean+1.96*std/N**0.5\n",
    "print(\"The 95% confidence interval is [{}, {}]\".format(lower,upper))\n",
    "print(\"The width of the confidence interval is\", upper-lower)"
   ]
  },
  {
   "cell_type": "markdown",
   "metadata": {
    "colab_type": "text",
    "id": "AhCmqmSiiD-s"
   },
   "source": [
    "##Q3 [8 points]\n",
    "\n",
    "Apply antithetic method to the service time.  \n",
    "\n",
    "* Run the original system 250 times and anti-thetic part 250 times and plot the distribution of the average time a task spent in the system  for all the tasks that are completed.\n",
    "* Compute the 95% confidence interval for the population mean of the average time in the system.\n",
    "* Compute the width of the confidence interval for the population mean of the average time in the system.\n",
    "\n",
    "\n"
   ]
  },
  {
   "cell_type": "code",
   "execution_count": 7,
   "metadata": {
    "colab": {
     "base_uri": "https://localhost:8080/",
     "height": 313
    },
    "colab_type": "code",
    "executionInfo": {
     "elapsed": 2975,
     "status": "ok",
     "timestamp": 1576523653962,
     "user": {
      "displayName": "HaoDi Liu",
      "photoUrl": "https://lh3.googleusercontent.com/a-/AAuE7mDG8TIgSHQobFynuPn0Eo_0TiH7BVlZ-iKOEEhS=s64",
      "userId": "13590317772000812711"
     },
     "user_tz": 300
    },
    "id": "BYQ_ADIDibH1",
    "outputId": "281a932d-b794-48ef-ab89-dc3f6fddda80"
   },
   "outputs": [
    {
     "data": {
      "image/png": "[encoded data removed]",
      "text/plain": [
       "<Figure size 432x288 with 1 Axes>"
      ]
     },
     "metadata": {},
     "output_type": "display_data"
    },
    {
     "name": "stdout",
     "output_type": "stream",
     "text": [
      "The 95% confidence interval is [20.766021779294604, 20.9686391666104]\n",
      "The width of the confidence interval is 0.20261738731579726\n"
     ]
    }
   ],
   "source": [
    "def arrival(env,server,inter_arrivals,servicetimes,departtimes):\n",
    "    for i in range(len(inter_arrivals)):\n",
    "        yield env.timeout(inter_arrivals[i])\n",
    "        env.process(service(env,server,servicetimes,departtimes,i))\n",
    "\n",
    "def service(env,server,servicetimes,departtimes,i):\n",
    "    rqt=server.request()\n",
    "    yield rqt\n",
    "    yield env.timeout(servicetimes[i])\n",
    "    server.release(rqt)\n",
    "    departtimes.append(env.now)\n",
    "\n",
    "def system_q3(u, arrival_times):\n",
    "\n",
    "    env=simpy.Environment()\n",
    "    server=simpy.Resource(env)\n",
    "    inter_arrivals = np.diff(np.insert(arrival_times,0,0))\n",
    "    num_arrivals = len(arrival_times)\n",
    "    servicetimes=2*u+1\n",
    "    departtimes=[]\n",
    "    env.process(arrival(env,server,inter_arrivals,servicetimes,departtimes))\n",
    "    env.run(until=50)\n",
    "    departtimes = np.array(departtimes)\n",
    "    average_time=np.mean(departtimes-arrival_times[0:len(departtimes)])\n",
    "  \n",
    "    return average_time\n",
    "\n",
    "def anti():\n",
    "    arrival_times_original = ArrivalTimes()\n",
    "    arrival_times_anti = ArrivalTimes()\n",
    "    num = np.max([len(arrival_times_original), len(arrival_times_anti)])\n",
    "    u = np.random.rand(num)\n",
    "\n",
    "    if num == len(arrival_times_original):\n",
    "        u_original = u\n",
    "        u_anti = 1 - u_original\n",
    "        u_anti = u_anti[0:len(arrival_times_anti)]\n",
    "    else:\n",
    "        u_anti = u\n",
    "        u_original = 1 - u_anti\n",
    "        u_original = u_original[0:len(arrival_times_original)]\n",
    "\n",
    "    at_odd = system_q3(u_original, arrival_times_original)\n",
    "    at_even = system_q3(u_anti, arrival_times_anti)\n",
    "  \n",
    "    return at_odd, at_even, (at_odd+at_even)/2\n",
    "\n",
    "\n",
    "N=250\n",
    "returns=[anti() for i in range(N)]\n",
    "at1 = [item[0] for item in returns]\n",
    "at2 = [item[1] for item in returns]\n",
    "ATs = np.append(np.array(at1), np.array(at2))\n",
    "y = [item[2] for item in returns]\n",
    "y = np.array(y)\n",
    "plt.hist(ATs)\n",
    "plt.xlabel(\"average times\")\n",
    "plt.ylabel(\"density/mass\")\n",
    "plt.show()\n",
    "mean=np.mean(y)\n",
    "std=np.std(y,ddof=1)\n",
    "lower=mean-1.96*std/N**0.5\n",
    "upper=mean+1.96*std/N**0.5\n",
    "print(\"The 95% confidence interval is [{}, {}]\".format(lower,upper))\n",
    "print(\"The width of the confidence interval is\", upper-lower)\n",
    "\n"
   ]
  },
  {
   "cell_type": "markdown",
   "metadata": {
    "colab_type": "text",
    "id": "fmV5Zxeo1nlZ"
   },
   "source": [
    "## Q4. [8 Points]\n",
    "\n",
    "Use the number of arrivals as control variates to reduce the variance.\n",
    "\n",
    "* Run the system 500 times and plot the distribution of the average time a task spent in the system for all the tasks that are completed.\n",
    "* Compute the 95% confidence interval for the population mean of the average time in the system.\n",
    "* Compute the width of the confidence interval for the population mean of the average time in the system.\n"
   ]
  },
  {
   "cell_type": "code",
   "execution_count": 8,
   "metadata": {
    "colab": {
     "base_uri": "https://localhost:8080/",
     "height": 313
    },
    "colab_type": "code",
    "executionInfo": {
     "elapsed": 2852,
     "status": "ok",
     "timestamp": 1576523688694,
     "user": {
      "displayName": "HaoDi Liu",
      "photoUrl": "https://lh3.googleusercontent.com/a-/AAuE7mDG8TIgSHQobFynuPn0Eo_0TiH7BVlZ-iKOEEhS=s64",
      "userId": "13590317772000812711"
     },
     "user_tz": 300
    },
    "id": "-x71Dnm251KF",
    "outputId": "e96bb131-8722-400a-d73e-73ab4ce90cca"
   },
   "outputs": [
    {
     "data": {
      "image/png": "[encoded data removed]",
      "text/plain": [
       "<Figure size 432x288 with 1 Axes>"
      ]
     },
     "metadata": {},
     "output_type": "display_data"
    },
    {
     "name": "stdout",
     "output_type": "stream",
     "text": [
      "The 95% confidence interval is [20.863644829555017, 21.090500620384542]\n",
      "The width of the confidence interval is 0.226855790829525\n"
     ]
    }
   ],
   "source": [
    "def arrival(env,server,inter_arrivals,servicetimes,departtimes):\n",
    "    for i in range(len(inter_arrivals)):\n",
    "        yield env.timeout(inter_arrivals[i])\n",
    "        env.process(service(env,server,servicetimes,departtimes,i))\n",
    "\n",
    "def service(env,server,servicetimes,departtimes,i):\n",
    "    rqt=server.request()\n",
    "    yield rqt\n",
    "    yield env.timeout(servicetimes[i])\n",
    "    server.release(rqt)\n",
    "    departtimes.append(env.now)\n",
    "\n",
    "def system_q4():\n",
    "\n",
    "    env=simpy.Environment()\n",
    "    server=simpy.Resource(env)\n",
    "    arrival_times = ArrivalTimes()\n",
    "    inter_arrivals = np.diff(np.insert(arrival_times,0,0))\n",
    "    num_arrivals = len(arrival_times)\n",
    "    u = np.random.rand(num_arrivals)\n",
    "    servicetimes=2*u+1\n",
    "    departtimes=[]\n",
    "    env.process(arrival(env,server,inter_arrivals,servicetimes,departtimes))\n",
    "    env.run(until=50)\n",
    "    departtimes = np.array(departtimes)\n",
    "    average_time=np.mean(departtimes-arrival_times[0:len(departtimes)])\n",
    "  \n",
    "    return average_time, num_arrivals\n",
    "\n",
    "N = 500\n",
    "returns = [system_q4() for i in range(N)]\n",
    "ATs = np.array([item[0] for item in returns])\n",
    "z = np.array([item[1] for item in returns])\n",
    "c=-np.cov(ATs,z,ddof=1)[0,1]/np.var(z,ddof=1)\n",
    "y=ATs+c*(z-125)\n",
    "plt.hist(ATs)\n",
    "plt.xlabel(\"average times\")\n",
    "plt.ylabel(\"density/mass\")\n",
    "plt.show()\n",
    "mean=np.mean(y)\n",
    "std=np.std(y,ddof=1)\n",
    "lower=mean-1.96*std/N**0.5\n",
    "upper=mean+1.96*std/N**0.5\n",
    "print(\"The 95% confidence interval is [{}, {}]\".format(lower,upper))\n",
    "print(\"The width of the confidence interval is\", upper-lower)"
   ]
  },
  {
   "cell_type": "code",
   "execution_count": 0,
   "metadata": {
    "colab": {},
    "colab_type": "code",
    "id": "nJ9SgAzgncvt"
   },
   "outputs": [],
   "source": []
  }
 ],
 "metadata": {
  "colab": {
   "collapsed_sections": [],
   "name": "HaoDi Liu - HW7 (IEOR 4404 Fall 2019).ipynb",
   "provenance": [
    {
     "file_id": "13NnIay1RwX3bXuHXGSDrDiyl7c-S2IoA",
     "timestamp": 1575141223359
    },
    {
     "file_id": "1FygzY97RvhwVIp4AdxiKMk38e9hs0Cid",
     "timestamp": 1575003129328
    },
    {
     "file_id": "1rSHqixCBUKORQHvHU3DKZmKEVclX65AX",
     "timestamp": 1573914583811
    },
    {
     "file_id": "1D_sI569hbsIkkPgyXmrwZnlz4Sk0r2EM",
     "timestamp": 1573683865121
    },
    {
     "file_id": "1KAQlY-b_5oTYAr2HqQm9gVy4UYwejk8w",
     "timestamp": 1573236060279
    },
    {
     "file_id": "1RAnoHD0pJ2hcpKoJH2MEDqFiN9P894XB",
     "timestamp": 1572752481047
    },
    {
     "file_id": "1d90xTvbs1HvPh5e5OWCWS2zb0aGawsUj",
     "timestamp": 1572747469532
    },
    {
     "file_id": "114Di_mbQAakdYMmzSq0QZdQi37dvCGlh",
     "timestamp": 1554755164840
    },
    {
     "file_id": "1rdwhuqgvFprHNMfLZrsZuuR7n_LtJ-2J",
     "timestamp": 1553825647633
    },
    {
     "file_id": "1JCSp6qEW5_aKWiT5cDoBJCYomWWZ7HHj",
     "timestamp": 1553783786349
    },
    {
     "file_id": "1QAwczu2Htj70o-gz0SNv9khVKhm-c9Nx",
     "timestamp": 1539964737693
    }
   ]
  },
  "kernelspec": {
   "display_name": "Python 3",
   "language": "python",
   "name": "python3"
  },
  "language_info": {
   "codemirror_mode": {
    "name": "ipython",
    "version": 3
   },
   "file_extension": ".py",
   "mimetype": "text/x-python",
   "name": "python",
   "nbconvert_exporter": "python",
   "pygments_lexer": "ipython3",
   "version": "3.6.5"
  }
 },
 "nbformat": 4,
 "nbformat_minor": 1
}
