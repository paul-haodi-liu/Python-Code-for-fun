{
 "cells": [
  {
   "cell_type": "code",
   "execution_count": 1,
   "metadata": {
    "colab": {
     "base_uri": "https://localhost:8080/",
     "height": 105
    },
    "colab_type": "code",
    "executionInfo": {
     "elapsed": 5590,
     "status": "ok",
     "timestamp": 1576521979454,
     "user": {
      "displayName": "HaoDi Liu",
      "photoUrl": "https://lh3.googleusercontent.com/a-/AAuE7mDG8TIgSHQobFynuPn0Eo_0TiH7BVlZ-iKOEEhS=s64",
      "userId": "13590317772000812711"
     },
     "user_tz": 300
    },
    "id": "7EyI11SeiXGt",
    "outputId": "149930e2-72d1-46ec-cebe-3bfba45a1ba2"
   },
   "outputs": [
    {
     "name": "stdout",
     "output_type": "stream",
     "text": [
      "Requirement already satisfied: simpy in /anaconda3/lib/python3.6/site-packages (3.0.11)\n",
      "\u001b[31mxarray 0.15.1 has requirement numpy>=1.15, but you'll have numpy 1.14.3 which is incompatible.\u001b[0m\n",
      "\u001b[31mxarray 0.15.1 has requirement pandas>=0.25, but you'll have pandas 0.23.0 which is incompatible.\u001b[0m\n",
      "\u001b[33mYou are using pip version 10.0.1, however version 20.1 is available.\n",
      "You should consider upgrading via the 'pip install --upgrade pip' command.\u001b[0m\n"
     ]
    }
   ],
   "source": [
    "#This imports all the packages you need for the homework (you might not use some of them)\n",
    "#Please run this first\n",
    "#we will need this for array operation\n",
    "import numpy as np\n",
    "#we will need this for plots\n",
    "import matplotlib.pyplot as plt\n",
    "#We will need this to calculate factorial on array\n",
    "import scipy.misc as spm\n",
    "#We will need this to do calculations related to distribution\n",
    "import scipy.stats as spst\n",
    "\n",
    "#We will need this to calculate factorial on array\n",
    "import scipy.special as spsp\n",
    "\n",
    "#Sympy\n",
    "import sympy \n",
    "\n",
    "#simpy\n",
    "!pip install simpy\n",
    "import simpy"
   ]
  },
  {
   "cell_type": "markdown",
   "metadata": {
    "colab_type": "text",
    "id": "hZQYGmM7rpWS"
   },
   "source": [
    "#Exercise 1 [44 Points]\n",
    "\n"
   ]
  },
  {
   "cell_type": "markdown",
   "metadata": {
    "colab_type": "text",
    "id": "626h4lo_4cRC"
   },
   "source": [
    "##Setting\n",
    "\n",
    "Let's imagine a small clinic with one person at the front desk and two offices. We have two types of patients.\n",
    "\n",
    "* Type 1 patients (urgent patient) arrive following a Poisson process with $\\lambda=5$ per hour.\n",
    "\n",
    "* Type 2 patient (consultation patient) arrive following a Poisson process with $\\lambda=10$ per hour.\n",
    "\n"
   ]
  },
  {
   "cell_type": "markdown",
   "metadata": {
    "colab_type": "text",
    "id": "ZJO21gBupMBF"
   },
   "source": [
    "##Q1 [10 Points]\n",
    "\n",
    "Use two processes to seperately model the arrival processes of type 1 and type 2 customers. \n",
    "\n",
    "\n",
    "Inside the system, generate two lists:\n",
    "\n",
    "* list one will give the arrival times of type 1 customer\n",
    "* list two will give the arrival times of type 2 customer \n",
    "\n",
    "For this question:\n",
    "\n",
    "* Simulate the system until T=10. Return the highest inter_arrival time among all the customer.  \n",
    "\n",
    "\n",
    "* Run this simuation 1000 times, plot the distribution of the highest inter_arrival time among all the customer.  "
   ]
  },
  {
   "cell_type": "code",
   "execution_count": 2,
   "metadata": {
    "colab": {
     "base_uri": "https://localhost:8080/",
     "height": 279
    },
    "colab_type": "code",
    "executionInfo": {
     "elapsed": 1467,
     "status": "ok",
     "timestamp": 1576522006025,
     "user": {
      "displayName": "HaoDi Liu",
      "photoUrl": "https://lh3.googleusercontent.com/a-/AAuE7mDG8TIgSHQobFynuPn0Eo_0TiH7BVlZ-iKOEEhS=s64",
      "userId": "13590317772000812711"
     },
     "user_tz": 300
    },
    "id": "4AHiWEB302zV",
    "outputId": "f8606704-2fcf-4f02-cfc6-22832b88a3c4"
   },
   "outputs": [
    {
     "data": {
      "image/png": "[encoded data removed]",
      "text/plain": [
       "<Figure size 432x288 with 1 Axes>"
      ]
     },
     "metadata": {},
     "output_type": "display_data"
    }
   ],
   "source": [
    "##Do not remove this\n",
    "np.random.seed(40)\n",
    "\n",
    "#generate the arrival process for type 1 user\n",
    "def arrival1(env,arrival_times1):\n",
    "    lmbda = 5\n",
    "    while True:\n",
    "        inter_arrival=-1/lmbda*np.log(np.random.rand())\n",
    "        yield env.timeout(inter_arrival)\n",
    "        arrival_times1.append(env.now)\n",
    "#generate the arrival process for type 2 user\n",
    "def arrival2(env,arrival_times2):\n",
    "    lmbda = 10\n",
    "    while True:\n",
    "        inter_arrival=-1/lmbda*np.log(np.random.rand())\n",
    "        yield env.timeout(inter_arrival)\n",
    "        arrival_times2.append(env.now)\n",
    "\n",
    "#construct the system function to run the arrival processes until T=10.\n",
    "def system():\n",
    "    env=simpy.Environment()\n",
    "    arrival_times1 = []\n",
    "    arrival_times2 = []\n",
    "    env.process(arrival1(env, arrival_times1))\n",
    "    env.process(arrival2(env, arrival_times2))\n",
    "    T = 10\n",
    "    env.run(until=T)\n",
    "    arrival_times1 = np.array(arrival_times1)\n",
    "    arrival_times2 = np.array(arrival_times2)\n",
    "    arrival_times = np.sort(np.append(arrival_times1, arrival_times2))\n",
    "    inter_arrivals = np.diff(np.insert(arrival_times,0,0))\n",
    "\n",
    "    return np.max(inter_arrivals)\n",
    "#run the system 1000 times and visualize the distribution of system output\n",
    "max_interarrs = [system() for i in range(1000)]\n",
    "plt.hist(max_interarrs)\n",
    "plt.xlabel(\"highest inter-arrival time\")\n",
    "plt.ylabel(\"mass/density\")\n",
    "plt.show()\n"
   ]
  },
  {
   "cell_type": "markdown",
   "metadata": {
    "colab_type": "text",
    "id": "zHayy-cfrsbq"
   },
   "source": [
    "###Q2 [10 Points]\n",
    "\n",
    "\n",
    "Now let's assume that when arriving, both type of patients will first register with the front desk. Here we assume that the service time is constant and is equal to 0.1. The registration follows first come first service. \n",
    "\n",
    "The front desk person will assign Type 1 patients to wait for office 1 and Type 2 patients to line up for office 2. Each office will follow a first come first serve order and only sees one patient at a time. The service speed in office 1 follows a uniform distribution between 0.2 and 0.4. The service speed in office 2 follows a uniform distribution between 0.1 and 0.3. \n",
    "\n",
    "After seeing the doctors, the patients will leave.\n",
    "\n",
    "\n",
    "* Extend the system you constructed in Q1 to incorporate the new elements in the system. Instead of returning highest inter_arrival time among all the customer, give two return values. Return value 1 gives the average time in the clinic for type 1 patients. Return value 2 gives average time in the clinic for type 2 patients.\n",
    "\n",
    "* Run the system 1000 times. Plot the distribution of the average time in the clinic for type 1 customers. Seperately, plot the distribution of the average time in the clinic for type 2 customers.\n"
   ]
  },
  {
   "cell_type": "code",
   "execution_count": 3,
   "metadata": {
    "colab": {
     "base_uri": "https://localhost:8080/",
     "height": 573
    },
    "colab_type": "code",
    "executionInfo": {
     "elapsed": 12145,
     "status": "ok",
     "timestamp": 1576522168899,
     "user": {
      "displayName": "HaoDi Liu",
      "photoUrl": "https://lh3.googleusercontent.com/a-/AAuE7mDG8TIgSHQobFynuPn0Eo_0TiH7BVlZ-iKOEEhS=s64",
      "userId": "13590317772000812711"
     },
     "user_tz": 300
    },
    "id": "FjCYe6Yr27jT",
    "outputId": "c182cbb1-4ef4-46ba-aa2d-81033b0ce024"
   },
   "outputs": [
    {
     "data": {
      "image/png": "[encoded data removed]",
      "text/plain": [
       "<Figure size 432x288 with 1 Axes>"
      ]
     },
     "metadata": {},
     "output_type": "display_data"
    },
    {
     "data": {
      "image/png": "[encoded data removed]",
      "text/plain": [
       "<Figure size 432x288 with 1 Axes>"
      ]
     },
     "metadata": {},
     "output_type": "display_data"
    }
   ],
   "source": [
    "##Do not remove this \n",
    "np.random.seed(40)\n",
    "\n",
    "#generate the arrival process for type 1 user\n",
    "#stations[0] is the front desk, stations[1] is office 1, station[2] is office 2\n",
    "def arrival1(env,arrival_times1,depart_times1, stations):\n",
    "    lmbda = 5\n",
    "    i = 0\n",
    "    while True:\n",
    "        i = i + 1\n",
    "        inter_arrival=-1/lmbda*np.log(np.random.rand())\n",
    "        yield env.timeout(inter_arrival)\n",
    "        arrival_times1.append(env.now)\n",
    "        depart_times1.append(-1)\n",
    "        env.process(service1(env, arrival_times1, stations, i, depart_times1))\n",
    "    \n",
    "  \n",
    "#generate the arrival process for type 2 user    \n",
    "def arrival2(env,arrival_times2, depart_times2, stations):\n",
    "    lmbda = 10\n",
    "    i = 0\n",
    "    while True:\n",
    "        i = i + 1\n",
    "        inter_arrival=-1/lmbda*np.log(np.random.rand())\n",
    "        yield env.timeout(inter_arrival)\n",
    "        arrival_times2.append(env.now)\n",
    "        depart_times2.append(-1)\n",
    "        env.process(service2(env, arrival_times2, stations, i, depart_times2))\n",
    "\n",
    "\n",
    "\n",
    "#generate the service process for type 1 user\n",
    "#i is the arrival order of this user among all type 1 users. Starting from 1\n",
    "def service1(env,arrival_times1, stations, i, depart_times1 ):\n",
    "    # register with the front desk\n",
    "    rqt1 = stations[0].request()\n",
    "    yield rqt1\n",
    "    yield env.timeout(0.1)\n",
    "    stations[0].release(rqt1)\n",
    "    # line up for office 1\n",
    "    rqt2 = stations[1].request()\n",
    "    yield rqt2\n",
    "    service_t = 0.2*np.random.rand()+0.2\n",
    "    yield env.timeout(service_t)\n",
    "    depart_times1[i-1]=env.now\n",
    "    stations[1].release(rqt2)\n",
    "\n",
    "#generate the service process for type 2 user\n",
    "#i is the arrival order of this user among all type 2 users. Starting from 1\n",
    "def service2(env,arrival_times2, stations,i, depart_times2):\n",
    "    # register with the front desk\n",
    "    rqt1 = stations[0].request()\n",
    "    yield rqt1\n",
    "    yield env.timeout(0.1)\n",
    "    stations[0].release(rqt1)\n",
    "    # line up for office 2\n",
    "    rqt2 = stations[2].request()\n",
    "    yield rqt2\n",
    "    service_t = 0.2*np.random.rand()+0.1\n",
    "    yield env.timeout(service_t)\n",
    "    depart_times2[i-1]=env.now\n",
    "    stations[2].release(rqt2)\n",
    "\n",
    "#construct the system function to run the arrival processes until T=10.\n",
    "#return values: (1) average time in the system for type 1 customers\n",
    "#               (2) average time in the system for type 2 customers\n",
    "def system():\n",
    "    env=simpy.Environment()\n",
    "    arrival_times1 = []\n",
    "    arrival_times2 = []\n",
    "    depart_times1 = []\n",
    "    depart_times2 = []\n",
    "    front_desk = simpy.Resource(env)\n",
    "    office1 = simpy.Resource(env)\n",
    "    office2 = simpy.Resource(env)\n",
    "    stations=[front_desk, office1, office2]\n",
    "    env.process(arrival1(env, arrival_times1, depart_times1, stations))\n",
    "    env.process(arrival2(env, arrival_times2, depart_times2, stations))\n",
    "    T = 10\n",
    "    env.run(until=T)\n",
    "    arrival_times1 = np.array(arrival_times1)\n",
    "    arrival_times2 = np.array(arrival_times2)\n",
    "    depart_times1 = np.array(depart_times1)\n",
    "    depart_times2 = np.array(depart_times2)\n",
    "    waiting_times1=depart_times1[depart_times1>0]-arrival_times1[depart_times1>0]\n",
    "    waiting_times2=depart_times2[depart_times2>0]-arrival_times2[depart_times2>0]\n",
    "    return np.mean(waiting_times1), np.mean(waiting_times2)\n",
    "#run the system 1000 times and visualize the distribution of system output\n",
    "avg_times1 = [system()[0] for i in range(1000)]\n",
    "avg_times2 = [system()[1] for i in range(1000)]\n",
    "plt.hist(avg_times1)\n",
    "plt.title(\"distribution of the average time in the clinic for type 1 customers\")\n",
    "plt.xlabel(\"average time in the clinic\")\n",
    "plt.ylabel(\"mass/density\")\n",
    "plt.show()\n",
    "plt.hist(avg_times2)\n",
    "plt.title(\"distribution of the average time in the clinic for type 2 customers\")\n",
    "plt.xlabel(\"average time in the clinic\")\n",
    "plt.ylabel(\"mass/density\")\n",
    "plt.show()"
   ]
  },
  {
   "cell_type": "code",
   "execution_count": 0,
   "metadata": {
    "colab": {},
    "colab_type": "code",
    "id": "5z-mN-fmsurj"
   },
   "outputs": [],
   "source": []
  },
  {
   "cell_type": "markdown",
   "metadata": {
    "colab_type": "text",
    "id": "UQ9-2v6BqSyg"
   },
   "source": [
    "##Q3 [8 Points]\n",
    "\n",
    "Let's assume for Q2, customers might not immediately leave after seeing the doctor assigned by the front desk. Especially, let's assume that\n",
    "\n",
    "After a type 1 patient finishes receiving the service from office 1, there are two cases:\n",
    "\n",
    "(1) there is a 0.2 probability that this patient being immediately transferred to office 2. Transfered patients wait at the end of line. After finishing receiving the consultation with office 2, the patient is free to go.\n",
    "\n",
    "(2) there is a 0.8 the patient is free to go directly. \n",
    "\n",
    "After a type 2 patient finishes receiving the service from office 2, there are two cases:\n",
    "\n",
    "(1) there is a 0.1 probability that this patient being immediately transferred to office 1. Transfered patients wait at the end of line. After finishing receiving the consultation with office 1, the patient is free to go.\n",
    "\n",
    "(2) there is a 0.9 the patient is free to go directly. \n",
    "\n",
    "* Fill in the following command cell and simulate the system 1000 times. Plot the distribution of  the average time in the clinic for type 1 customers. Seperately, plot the distribution of  the average time in the clinic for type 2 customers."
   ]
  },
  {
   "cell_type": "code",
   "execution_count": 4,
   "metadata": {
    "colab": {
     "base_uri": "https://localhost:8080/",
     "height": 573
    },
    "colab_type": "code",
    "executionInfo": {
     "elapsed": 12554,
     "status": "ok",
     "timestamp": 1576522217814,
     "user": {
      "displayName": "HaoDi Liu",
      "photoUrl": "https://lh3.googleusercontent.com/a-/AAuE7mDG8TIgSHQobFynuPn0Eo_0TiH7BVlZ-iKOEEhS=s64",
      "userId": "13590317772000812711"
     },
     "user_tz": 300
    },
    "id": "GXBJBDOPz60I",
    "outputId": "c345559d-5138-44d0-8861-51ad13ba350d"
   },
   "outputs": [
    {
     "data": {
      "image/png": "[encoded data removed]",
      "text/plain": [
       "<Figure size 432x288 with 1 Axes>"
      ]
     },
     "metadata": {},
     "output_type": "display_data"
    },
    {
     "data": {
      "image/png": "[encoded data removed]",
      "text/plain": [
       "<Figure size 432x288 with 1 Axes>"
      ]
     },
     "metadata": {},
     "output_type": "display_data"
    }
   ],
   "source": [
    "#generate the arrival process for type 1 user\n",
    "#stations[0] is the front desk, stations[1] is office 1, station[2] is office 2\n",
    "def arrival1(env,arrival_times1,depart_times1, stations):\n",
    "    lmbda = 5\n",
    "    i = 0\n",
    "    while True:\n",
    "        i = i + 1\n",
    "        inter_arrival=-1/lmbda*np.log(np.random.rand())\n",
    "        yield env.timeout(inter_arrival)\n",
    "        arrival_times1.append(env.now)\n",
    "        depart_times1.append(-1)\n",
    "        env.process(service1_updated(env, arrival_times1, stations, i, depart_times1))\n",
    "    \n",
    "  \n",
    "#generate the arrival process for type 2 user    \n",
    "def arrival2(env,arrival_times2, depart_times2, stations):\n",
    "    lmbda = 10\n",
    "    i = 0\n",
    "    while True:\n",
    "        i = i + 1\n",
    "        inter_arrival=-1/lmbda*np.log(np.random.rand())\n",
    "        yield env.timeout(inter_arrival)\n",
    "        arrival_times2.append(env.now)\n",
    "        depart_times2.append(-1)\n",
    "        env.process(service2_updated(env, arrival_times2, stations, i, depart_times2))\n",
    "\n",
    "#generate the updated service process for type 1 user \n",
    "def service1_updated(env,arrival_times1, stations, i, depart_times1 ):\n",
    "    # register with the front desk\n",
    "    rqt1 = stations[0].request()\n",
    "    yield rqt1\n",
    "    yield env.timeout(0.1)\n",
    "    stations[0].release(rqt1)\n",
    "    # line up for office 1\n",
    "    rqt2 = stations[1].request()\n",
    "    yield rqt2\n",
    "    service_t1 = 0.2*np.random.rand()+0.2\n",
    "    yield env.timeout(service_t1)\n",
    "    #depart_times1[i-1]=env.now\n",
    "    stations[1].release(rqt2)     \n",
    "    if (np.random.rand()>0.8):\n",
    "        rqt3 = stations[2].request()\n",
    "        yield rqt3\n",
    "        service_t2 = 0.2*np.random.rand()+0.1\n",
    "        yield env.timeout(service_t2)\n",
    "        depart_times1[i-1]=env.now\n",
    "        stations[2].release(rqt3)\n",
    "    else:\n",
    "        depart_times1[i-1]=env.now\n",
    "\n",
    "#generate the updated service process for type 2 user\n",
    "def service2_updated(env,arrival_times2, stations, i, depart_times2 ):\n",
    "    #register with the front desk\n",
    "    rqt1 = stations[0].request()\n",
    "    yield rqt1\n",
    "    yield env.timeout(0.1)\n",
    "    stations[0].release(rqt1)\n",
    "    # line up for office 2\n",
    "    rqt2 = stations[2].request()\n",
    "    yield rqt2\n",
    "    service_t1 = 0.2*np.random.rand()+0.1\n",
    "    yield env.timeout(service_t1)\n",
    "    #depart_times2[i-1]=env.now\n",
    "    stations[2].release(rqt2)\n",
    "    if (np.random.rand()>0.9):\n",
    "        rqt3 = stations[1].request()\n",
    "        yield rqt3\n",
    "        service_t2 = 0.2*np.random.rand()+0.2\n",
    "        yield env.timeout(service_t2)\n",
    "        depart_times2[i-1]=env.now\n",
    "        stations[1].release(rqt3)\n",
    "    else:\n",
    "        depart_times2[i-1]=env.now\n",
    "\n",
    "#construct the system function to run the arrival processes until T=10.\n",
    "def system():\n",
    "    env=simpy.Environment()\n",
    "    arrival_times1 = []\n",
    "    arrival_times2 = []\n",
    "    depart_times1 = []\n",
    "    depart_times2 = []\n",
    "    front_desk = simpy.Resource(env)\n",
    "    office1 = simpy.Resource(env)\n",
    "    office2 = simpy.Resource(env)\n",
    "    stations=[front_desk, office1, office2]\n",
    "    env.process(arrival1(env, arrival_times1, depart_times1, stations))\n",
    "    env.process(arrival2(env, arrival_times2, depart_times2, stations))\n",
    "    T = 10\n",
    "    env.run(until=T)\n",
    "    arrival_times1 = np.array(arrival_times1)\n",
    "    arrival_times2 = np.array(arrival_times2)\n",
    "    depart_times1 = np.array(depart_times1)\n",
    "    depart_times2 = np.array(depart_times2)\n",
    "    waiting_times1=depart_times1[depart_times1>0]-arrival_times1[depart_times1>0]\n",
    "    waiting_times2=depart_times2[depart_times2>0]-arrival_times2[depart_times2>0]\n",
    "    return np.mean(waiting_times1), np.mean(waiting_times2)\n",
    "\n",
    "#run the system 1000 times and visualize the distribution of system output\n",
    "avg_times1 = [system()[0] for i in range(1000)]\n",
    "avg_times2 = [system()[1] for i in range(1000)]\n",
    "plt.hist(avg_times1)\n",
    "plt.title(\"distribution of the average time in the clinic for type 1 customers\")\n",
    "plt.xlabel(\"average time in the clinic\")\n",
    "plt.ylabel(\"mass/density\")\n",
    "plt.show()\n",
    "plt.hist(avg_times2)\n",
    "plt.title(\"distribution of the average time in the clinic for type 2 customers\")\n",
    "plt.xlabel(\"average time in the clinic\")\n",
    "plt.ylabel(\"mass/density\")\n",
    "plt.show()"
   ]
  },
  {
   "cell_type": "markdown",
   "metadata": {
    "colab_type": "text",
    "id": "fmV5Zxeo1nlZ"
   },
   "source": [
    "## Q4. [8 Points]\n",
    "\n",
    "Now assume that for the system we constructed in Q3, there can be a probability for a Type 2 patient to renege. Especially, for every Type 2 patient, if after lining up for the front desk for t=0.4 there are still more than 3 people (not including the person currently receiving the service) waiting to receive the server from the front desk, the patient will leave.\n",
    "\n",
    "Again, simulate the system for 1000 times. Plot the distribution of the average time in the clinic for type 1 customers. Seperately, plot the distribution of  the average time in the clinic for type 2 customers."
   ]
  },
  {
   "cell_type": "code",
   "execution_count": 6,
   "metadata": {
    "colab": {
     "base_uri": "https://localhost:8080/",
     "height": 573
    },
    "colab_type": "code",
    "executionInfo": {
     "elapsed": 15699,
     "status": "ok",
     "timestamp": 1576522528121,
     "user": {
      "displayName": "HaoDi Liu",
      "photoUrl": "https://lh3.googleusercontent.com/a-/AAuE7mDG8TIgSHQobFynuPn0Eo_0TiH7BVlZ-iKOEEhS=s64",
      "userId": "13590317772000812711"
     },
     "user_tz": 300
    },
    "id": "-x71Dnm251KF",
    "outputId": "9e3af0f2-5bfd-4eab-fece-f9b5726e1b0c"
   },
   "outputs": [
    {
     "data": {
      "image/png": "[encoded data removed]",
      "text/plain": [
       "<Figure size 432x288 with 1 Axes>"
      ]
     },
     "metadata": {},
     "output_type": "display_data"
    },
    {
     "data": {
      "image/png": "[encoded data removed]",
      "text/plain": [
       "<Figure size 432x288 with 1 Axes>"
      ]
     },
     "metadata": {},
     "output_type": "display_data"
    }
   ],
   "source": [
    "#generate the arrival process for type 2 user    \n",
    "def arrival2_q4(env,arrival_times2, depart_times2, stations):\n",
    "    lmbda = 10\n",
    "    i = 0\n",
    "    while True:\n",
    "        i = i + 1\n",
    "        inter_arrival=-1/lmbda*np.log(np.random.rand())\n",
    "        yield env.timeout(inter_arrival)\n",
    "        arrival_times2.append(env.now)\n",
    "        depart_times2.append(-1)\n",
    "        env.process(service2_q4(env, arrival_times2, stations, i, depart_times2))\n",
    "\n",
    "#only include the functions you need to modify from Q1-Q3\n",
    "def service2_q4(env,arrival_times2, stations, i, depart_times2 ):\n",
    "    #register with the front desk\n",
    "    rqt1 = stations[0].request()\n",
    "    result=yield rqt1 | env.timeout(0.4)\n",
    "    # if customer i doesn't renege\n",
    "    if rqt1 in result:\n",
    "        yield env.timeout(0.1)\n",
    "        stations[0].release(rqt1)\n",
    "        # line up for office 2\n",
    "        rqt2 = stations[2].request()\n",
    "        yield rqt2\n",
    "        service_t1 = 0.2*np.random.rand()+0.1\n",
    "        yield env.timeout(service_t1)\n",
    "        stations[2].release(rqt2)\n",
    "        if (np.random.rand()>0.9):\n",
    "            rqt3 = stations[1].request()\n",
    "            yield rqt3\n",
    "            service_t2 = 0.2*np.random.rand()+0.2\n",
    "            yield env.timeout(service_t2)\n",
    "            depart_times2[i-1]=env.now\n",
    "            stations[1].release(rqt3)\n",
    "        else:\n",
    "            depart_times2[i-1]=env.now\n",
    "    # if customer i regenes\n",
    "    else:\n",
    "        #leave the queue\n",
    "        if len(stations[0].queue) > 3:\n",
    "            rqt1.cancel()\n",
    "            depart_times2[i-1]=env.now\n",
    "        #keep waiting since I am almost there\n",
    "        else:\n",
    "            yield rqt1\n",
    "            yield env.timeout(0.1)\n",
    "            stations[0].release(rqt1)\n",
    "            # line up for office 2\n",
    "            rqt2 = stations[2].request()\n",
    "            yield rqt2\n",
    "            service_t1 = 0.2*np.random.rand()+0.1\n",
    "            yield env.timeout(service_t1)\n",
    "            stations[2].release(rqt2)\n",
    "            if (np.random.rand()>0.9):\n",
    "                rqt3 = stations[1].request()\n",
    "                yield rqt3\n",
    "                service_t2 = 0.2*np.random.rand()+0.2\n",
    "                yield env.timeout(service_t2)\n",
    "                depart_times2[i-1]=env.now\n",
    "                stations[1].release(rqt3)\n",
    "            else:\n",
    "                depart_times2[i-1]=env.now\n",
    "\n",
    "#construct the system function to run the arrival processes until T=10.\n",
    "def system():\n",
    "    env=simpy.Environment()\n",
    "    arrival_times1 = []\n",
    "    arrival_times2 = []\n",
    "    depart_times1 = []\n",
    "    depart_times2 = []\n",
    "    front_desk = simpy.Resource(env)\n",
    "    office1 = simpy.Resource(env)\n",
    "    office2 = simpy.Resource(env)\n",
    "    stations=[front_desk, office1, office2]\n",
    "    env.process(arrival1(env, arrival_times1, depart_times1, stations))\n",
    "    env.process(arrival2_q4(env, arrival_times2, depart_times2, stations))\n",
    "    T = 10\n",
    "    env.run(until=T)\n",
    "    arrival_times1 = np.array(arrival_times1)\n",
    "    arrival_times2 = np.array(arrival_times2)\n",
    "    depart_times1 = np.array(depart_times1)\n",
    "    depart_times2 = np.array(depart_times2)\n",
    "    waiting_times1=depart_times1[depart_times1>0]-arrival_times1[depart_times1>0]\n",
    "    waiting_times2=depart_times2[depart_times2>0]-arrival_times2[depart_times2>0]\n",
    "    return np.mean(waiting_times1), np.mean(waiting_times2)\n",
    "\n",
    "#run the system 1000 times and visualize the distribution of system output\n",
    "avg_times1 = [system()[0] for i in range(1000)]\n",
    "avg_times2 = [system()[1] for i in range(1000)]\n",
    "plt.hist(avg_times1)\n",
    "plt.title(\"distribution of the average time in the clinic for type 1 customers\")\n",
    "plt.xlabel(\"average time in the clinic\")\n",
    "plt.ylabel(\"mass/density\")\n",
    "plt.show()\n",
    "plt.hist(avg_times2)\n",
    "plt.title(\"distribution of the average time in the clinic for type 2 customers\")\n",
    "plt.xlabel(\"average time in the clinic\")\n",
    "plt.ylabel(\"mass/density\")\n",
    "plt.show()"
   ]
  },
  {
   "cell_type": "markdown",
   "metadata": {
    "colab_type": "text",
    "id": "6UBAGUT1-Md7"
   },
   "source": [
    "##Q5 [8 Points]\n",
    "\n",
    "Now, the clinic is thinking about adding office 3. There are two possiblities. \n",
    "\n",
    "(1) Proposal 1: Have this office work as a parallel office of office 1. In this case, customers orgianlly waiting to receive the service from office will now wait in one line and receive the service from either office 1 or office 3, depending on which one becomes available first. In this case, the service speed for office 3 will follow the same distribution as the distribution of the service speed of office 1.\n",
    "\n",
    "(2) Proposal 2: Have this office work as a parallel office of office 2. In this case, customers orgianlly waiting to receive the service from office will now wait in one line and receive the service from either office 2 or office 3, depending on which one becomes available first. In this case, the service speed for office 3 will follow the same distribution as the distribution of the service speed of office 2.\n",
    "\n",
    "\n",
    "\n",
    "Motify your code from before. For each case, provide the plots you showed. (You will show 4 plots)\n",
    "\n",
    "\n",
    "Following simulating the system for 1000 times, discuss which case is better based on the following metrics:\n",
    "\n",
    "* Mean of maximum waiting time for all customers\n",
    "* Mean of average waiting time for all customers\n",
    "* Mean of difference of average waiting time between two consumer types.\n"
   ]
  },
  {
   "cell_type": "code",
   "execution_count": 7,
   "metadata": {
    "colab": {
     "base_uri": "https://localhost:8080/",
     "height": 573
    },
    "colab_type": "code",
    "executionInfo": {
     "elapsed": 16354,
     "status": "ok",
     "timestamp": 1576522629331,
     "user": {
      "displayName": "HaoDi Liu",
      "photoUrl": "https://lh3.googleusercontent.com/a-/AAuE7mDG8TIgSHQobFynuPn0Eo_0TiH7BVlZ-iKOEEhS=s64",
      "userId": "13590317772000812711"
     },
     "user_tz": 300
    },
    "id": "ur9Ctj1Dbv-G",
    "outputId": "381bca51-f7b9-40a2-88ee-a2f218cc2e35"
   },
   "outputs": [
    {
     "data": {
      "image/png": "[encoded data removed]",
      "text/plain": [
       "<Figure size 432x288 with 1 Axes>"
      ]
     },
     "metadata": {},
     "output_type": "display_data"
    },
    {
     "data": {
      "image/png": "[encoded data removed]",
      "text/plain": [
       "<Figure size 432x288 with 1 Axes>"
      ]
     },
     "metadata": {},
     "output_type": "display_data"
    }
   ],
   "source": [
    "#Proposal 1\n",
    "\n",
    "#only include the functions you need to modify from Q1-Q4\n",
    "\n",
    "# stations[1] will be a resource of capacity 2 representing office 1 and 3 altogether \n",
    "def system1():\n",
    "    env=simpy.Environment()\n",
    "    arrival_times1 = []\n",
    "    arrival_times2 = []\n",
    "    depart_times1 = []\n",
    "    depart_times2 = []\n",
    "    front_desk = simpy.Resource(env)\n",
    "    office_1_3 = simpy.Resource(env, capacity=2)\n",
    "    office2 = simpy.Resource(env)\n",
    "    stations=[front_desk, office_1_3, office2]\n",
    "    env.process(arrival1(env, arrival_times1, depart_times1, stations))\n",
    "    env.process(arrival2_q4(env, arrival_times2, depart_times2, stations))\n",
    "    T = 10\n",
    "    env.run(until=T)\n",
    "    arrival_times1 = np.array(arrival_times1)\n",
    "    arrival_times2 = np.array(arrival_times2)\n",
    "    depart_times1 = np.array(depart_times1)\n",
    "    depart_times2 = np.array(depart_times2)\n",
    "    waiting_times1=depart_times1[depart_times1>0]-arrival_times1[depart_times1>0]\n",
    "    waiting_times2=depart_times2[depart_times2>0]-arrival_times2[depart_times2>0]\n",
    "    waiting_times = np.append(waiting_times1, waiting_times2)\n",
    "    return np.mean(waiting_times1), np.mean(waiting_times2), np.max(waiting_times),\\\n",
    "     np.mean(waiting_times), np.mean(waiting_times1)-np.mean(waiting_times2)\n",
    "\n",
    "avg_times1 = [system1()[0] for i in range(1000)]\n",
    "avg_times2 = [system1()[1] for i in range(1000)]\n",
    "plt.hist(avg_times1)\n",
    "plt.title(\"distribution of the average time in the clinic for type 1 customers\")\n",
    "plt.xlabel(\"average time in the clinic\")\n",
    "plt.ylabel(\"mass/density\")\n",
    "plt.show()\n",
    "plt.hist(avg_times2)\n",
    "plt.title(\"distribution of the average time in the clinic for type 2 customers\")\n",
    "plt.xlabel(\"average time in the clinic\")\n",
    "plt.ylabel(\"mass/density\")\n",
    "plt.show()"
   ]
  },
  {
   "cell_type": "code",
   "execution_count": 8,
   "metadata": {
    "colab": {
     "base_uri": "https://localhost:8080/",
     "height": 573
    },
    "colab_type": "code",
    "executionInfo": {
     "elapsed": 16032,
     "status": "ok",
     "timestamp": 1576522810135,
     "user": {
      "displayName": "HaoDi Liu",
      "photoUrl": "https://lh3.googleusercontent.com/a-/AAuE7mDG8TIgSHQobFynuPn0Eo_0TiH7BVlZ-iKOEEhS=s64",
      "userId": "13590317772000812711"
     },
     "user_tz": 300
    },
    "id": "joYJu05Fb_v9",
    "outputId": "f49b6e28-d468-4008-95c6-929b86a342a1"
   },
   "outputs": [
    {
     "data": {
      "image/png": "[encoded data removed]",
      "text/plain": [
       "<Figure size 432x288 with 1 Axes>"
      ]
     },
     "metadata": {},
     "output_type": "display_data"
    },
    {
     "data": {
      "image/png": "[encoded data removed]",
      "text/plain": [
       "<Figure size 432x288 with 1 Axes>"
      ]
     },
     "metadata": {},
     "output_type": "display_data"
    }
   ],
   "source": [
    "#Proposal 2\n",
    "\n",
    "#only include the functions you need to modify from Q1-Q4\n",
    "# stations[2] will be a resource of capacity 2 representing office 2 and 3 altogether \n",
    "def system2():\n",
    "    env=simpy.Environment()\n",
    "    arrival_times1 = []\n",
    "    arrival_times2 = []\n",
    "    depart_times1 = []\n",
    "    depart_times2 = []\n",
    "    front_desk = simpy.Resource(env)\n",
    "    office1 = simpy.Resource(env)\n",
    "    office_2_3 = simpy.Resource(env, capacity=2)\n",
    "    stations=[front_desk, office1, office_2_3]\n",
    "    env.process(arrival1(env, arrival_times1, depart_times1, stations))\n",
    "    env.process(arrival2_q4(env, arrival_times2, depart_times2, stations))\n",
    "    T = 10\n",
    "    env.run(until=T)\n",
    "    arrival_times1 = np.array(arrival_times1)\n",
    "    arrival_times2 = np.array(arrival_times2)\n",
    "    depart_times1 = np.array(depart_times1)\n",
    "    depart_times2 = np.array(depart_times2)\n",
    "    waiting_times1=depart_times1[depart_times1>0]-arrival_times1[depart_times1>0]\n",
    "    waiting_times2=depart_times2[depart_times2>0]-arrival_times2[depart_times2>0]\n",
    "    waiting_times = np.append(waiting_times1, waiting_times2)\n",
    "    return np.mean(waiting_times1), np.mean(waiting_times2), np.max(waiting_times),\\\n",
    "     np.mean(waiting_times), np.mean(waiting_times1)-np.mean(waiting_times2)\n",
    "\n",
    "avg_times1 = [system2()[0] for i in range(1000)]\n",
    "avg_times2 = [system2()[1] for i in range(1000)]\n",
    "plt.hist(avg_times1)\n",
    "plt.title(\"distribution of the average time in the clinic for type 1 customers\")\n",
    "plt.xlabel(\"average time in the clinic\")\n",
    "plt.ylabel(\"mass/density\")\n",
    "plt.show()\n",
    "plt.hist(avg_times2)\n",
    "plt.title(\"distribution of the average time in the clinic for type 2 customers\")\n",
    "plt.xlabel(\"average time in the clinic\")\n",
    "plt.ylabel(\"mass/density\")\n",
    "plt.show()"
   ]
  },
  {
   "cell_type": "code",
   "execution_count": 9,
   "metadata": {
    "colab": {
     "base_uri": "https://localhost:8080/",
     "height": 173
    },
    "colab_type": "code",
    "executionInfo": {
     "elapsed": 15978,
     "status": "ok",
     "timestamp": 1576522861878,
     "user": {
      "displayName": "HaoDi Liu",
      "photoUrl": "https://lh3.googleusercontent.com/a-/AAuE7mDG8TIgSHQobFynuPn0Eo_0TiH7BVlZ-iKOEEhS=s64",
      "userId": "13590317772000812711"
     },
     "user_tz": 300
    },
    "id": "gcvWC2T_cnaL",
    "outputId": "a720e61c-1a03-497b-f62c-218338d17c09"
   },
   "outputs": [
    {
     "name": "stdout",
     "output_type": "stream",
     "text": [
      "For policy 1, the mean of maximum waiting time for all patients is 3.0680697040819376\n",
      "For policy 1, the mean of average waiting time for all patients is 1.0467108401029293\n",
      "For policy 1, the mean of difference of average waiting time between two patient types is 0.1326371991004113\n",
      "\n",
      "\n",
      "For policy 2, the mean of maximum waiting time for all patients is 4.366492457184023\n",
      "For policy 2, the mean of average waiting time for all patients is 1.0195205378856544\n",
      "For policy 2, the mean of difference of average waiting time between two patient types is 1.9293532119259644\n"
     ]
    }
   ],
   "source": [
    "#Policy comparison\n",
    "\n",
    "# Policy 1\n",
    "max_waiting_times1 = []\n",
    "avg_waiting_times1 = []\n",
    "diff_awt_1 = []\n",
    "for i in range(1000):\n",
    "    tup1 = system1()\n",
    "    max_waiting_times1.append(tup1[2])\n",
    "    avg_waiting_times1.append(tup1[3])\n",
    "    diff_awt_1.append(tup1[4])\n",
    "\n",
    "max_waiting_times1 = np.array(max_waiting_times1)\n",
    "avg_waiting_times1 = np.array(avg_waiting_times1)\n",
    "diff_awt_1 = np.array(diff_awt_1)\n",
    "\n",
    "print(\"For policy 1, the mean of maximum waiting time for all patients is\", np.mean(max_waiting_times1))\n",
    "print(\"For policy 1, the mean of average waiting time for all patients is\", np.mean(avg_waiting_times1))\n",
    "print(\"For policy 1, the mean of difference of average waiting time between two patient types \\\n",
    "is\", np.mean(diff_awt_1))\n",
    "\n",
    "# Policy 2\n",
    "max_waiting_times2 = []\n",
    "avg_waiting_times2 = []\n",
    "diff_awt_2 = []\n",
    "for i in range(1000):\n",
    "    tup2 = system2()\n",
    "    max_waiting_times2.append(tup2[2])\n",
    "    avg_waiting_times2.append(tup2[3])\n",
    "    diff_awt_2.append(tup2[4])\n",
    "\n",
    "max_waiting_times2 = np.array(max_waiting_times2)\n",
    "avg_waiting_times2 = np.array(avg_waiting_times2)\n",
    "diff_awt_2 = np.array(diff_awt_2)\n",
    "print(\"\\n\")\n",
    "print(\"For policy 2, the mean of maximum waiting time for all patients is\", np.mean(max_waiting_times2))\n",
    "print(\"For policy 2, the mean of average waiting time for all patients is\", np.mean(avg_waiting_times2))\n",
    "print(\"For policy 2, the mean of difference of average waiting time between two patient types \\\n",
    "is\", np.mean(diff_awt_2))"
   ]
  },
  {
   "cell_type": "markdown",
   "metadata": {
    "colab_type": "text",
    "id": "XDo55SrLX89n"
   },
   "source": [
    "I think policy 1 is better even though policy 2 has a bit lower average waiting time for all patients. Policy 1 gives a much lower maximum waiting time for any patient. This means no patient will need to wait for a very long time on average. Also, policy 1 treats two types of patients relatively equally because the mean of difference of average waiting time between two types of patients is much lower for policy 1. This is good because type 1 patients(urgent patients) should not wait for too long as they need service very urgently. It makes sense to provide more resource to type 1 patients."
   ]
  },
  {
   "cell_type": "markdown",
   "metadata": {
    "colab_type": "text",
    "id": "V1cv9pJK1w32"
   },
   "source": [
    "##Exercise 2 [16 Points]\n",
    "\n",
    "\n",
    "\n"
   ]
  },
  {
   "cell_type": "markdown",
   "metadata": {
    "colab_type": "text",
    "id": "lXwElsgnfBPY"
   },
   "source": [
    "An insurance company has 500 customers. The insurance company is interested in studying how long it takes for 400 customers of these 500 customers to churn (stop being a customer) and how much profit could be generated from all of the customer at that point.\n",
    "\n",
    "* The company wants to assume that for each customer, the time it takes for the customer to discontinue the service since the starting point of our simulation follows an exponential distribution with $λ_l={1}$. \n",
    "\n",
    "* During their stay, the inter-arrival time of the claims for a single customer follows an exponential distribution with $λ_c=0.01$. The amount of claim follows a uniform distribution between 10 and 100.\n",
    "\n",
    "* The revenue we generete from the customer depends on the length of stay. If the customer stayed with the company for t periods of time, the amount of revenue generated is t. When a customer churns, the company stops generating revenue from this customer.\n",
    "\n",
    "* The total profit is equal to the total revenue minus the total claim amount\n",
    "\n",
    "\n"
   ]
  },
  {
   "cell_type": "markdown",
   "metadata": {
    "colab_type": "text",
    "id": "ugeodPu7fzNy"
   },
   "source": [
    "Based on the setting:\n",
    "\n",
    "* Simulate the system until we have only 100 customers left. Compute how much profit is generated from these customers. \n",
    "\n",
    "* Repeat the simulation 500 times. plot the distribution of the revenue and distribution of the time it takes to lose 400 customers."
   ]
  },
  {
   "cell_type": "code",
   "execution_count": 10,
   "metadata": {
    "colab": {
     "base_uri": "https://localhost:8080/",
     "height": 34
    },
    "colab_type": "code",
    "executionInfo": {
     "elapsed": 317,
     "status": "ok",
     "timestamp": 1576523045912,
     "user": {
      "displayName": "HaoDi Liu",
      "photoUrl": "https://lh3.googleusercontent.com/a-/AAuE7mDG8TIgSHQobFynuPn0Eo_0TiH7BVlZ-iKOEEhS=s64",
      "userId": "13590317772000812711"
     },
     "user_tz": 300
    },
    "id": "E1wllmPEe9fA",
    "outputId": "d83f7ec8-ad7d-40ac-9b5e-971dd7cacc68"
   },
   "outputs": [
    {
     "name": "stdout",
     "output_type": "stream",
     "text": [
      "Amount of profit generated from these customers is 354.3204664452818\n"
     ]
    }
   ],
   "source": [
    "def churns(env, inter_arr, times_until_churned, vals_400):\n",
    "  \n",
    "    i=0\n",
    "    while (i<400):\n",
    "        inter_arrival = inter_arr[i]\n",
    "        yield env.timeout(inter_arrival)\n",
    "        i = i+1\n",
    "        env.process(claims(env, times_until_churned, vals_400 ,i))\n",
    "\n",
    "def claims(env, times_until_churned, vals_400, i):\n",
    "    # how long the customer i stays in the service\n",
    "    time = times_until_churned[i-1]\n",
    "    # arrivals of claims for customer i\n",
    "    now = env.now\n",
    "    while ((env.now-now) <= time):\n",
    "        int_arr = -100*np.log(np.random.rand())\n",
    "        yield env.timeout(int_arr)\n",
    "        if ((env.now - now) <= time):\n",
    "            vals_400.append(90*np.random.rand()+10)\n",
    "\n",
    "\n",
    "def system_e2():\n",
    "    # sample the times in service for all 500 customers\n",
    "    times_in_service = np.sort(-np.log(np.random.rand(500)))\n",
    "    # how long do we actually simulate\n",
    "    T = times_in_service[399]\n",
    "    # The simulation time is exactly the time in service\n",
    "    # of the customer who is the 400th to discontinue the service.\n",
    "    times_in_service[400:] = T\n",
    "    # The total amount of revenue is simply the sum of all times in service until our simulation ends\n",
    "    total_revenue = np.sum(times_in_service)\n",
    "    # Let's separately deal with the 400 churned customers and the 100 remaining customers\n",
    "\n",
    "    # Let's deal with the 100 remaining customers first as their times in service\n",
    "    # are all equal to T. We know the arrivals of claims for a single customer follows \n",
    "    # a poisson process with lambda = 0.01\n",
    "\n",
    "    # Numbers of arrived claims for the 100 remaining customers\n",
    "    Nums_claims = np.random.poisson(0.01*T, 100)\n",
    "    # Total number of claims for the 100 customers\n",
    "    T_Num_claims = np.sum(Nums_claims)\n",
    "    # Total value of the claims for the 100 customers\n",
    "    Val_claims_100=np.sum(90*np.random.rand(T_Num_claims)+10)\n",
    "    # Then let's deal with the 400 churned customers\n",
    "    times_until_churned = times_in_service[0:400]\n",
    "    inter_arr = np.diff(np.insert(times_until_churned,0,0))\n",
    "    # We need to use simpy processes to model the 400 churned customers\n",
    "    vals_400 = []\n",
    "    env = simpy.Environment()\n",
    "    env.process(churns(env, inter_arr, times_until_churned, vals_400))\n",
    "    env.run()\n",
    "    profit = total_revenue - (Val_claims_100 + np.sum(vals_400))\n",
    "    return profit, T\n",
    "\n",
    "print(\"Amount of profit generated from these customers is\", system_e2()[0])"
   ]
  },
  {
   "cell_type": "code",
   "execution_count": 11,
   "metadata": {
    "colab": {
     "base_uri": "https://localhost:8080/",
     "height": 573
    },
    "colab_type": "code",
    "executionInfo": {
     "elapsed": 10595,
     "status": "ok",
     "timestamp": 1576523110429,
     "user": {
      "displayName": "HaoDi Liu",
      "photoUrl": "https://lh3.googleusercontent.com/a-/AAuE7mDG8TIgSHQobFynuPn0Eo_0TiH7BVlZ-iKOEEhS=s64",
      "userId": "13590317772000812711"
     },
     "user_tz": 300
    },
    "id": "ttb7HRm5tXrD",
    "outputId": "7ad76cf6-4713-4661-aa7f-80e5fadfba45"
   },
   "outputs": [
    {
     "data": {
      "image/png": "[encoded data removed]",
      "text/plain": [
       "<Figure size 432x288 with 1 Axes>"
      ]
     },
     "metadata": {},
     "output_type": "display_data"
    },
    {
     "data": {
      "image/png": "[encoded data removed]",
      "text/plain": [
       "<Figure size 432x288 with 1 Axes>"
      ]
     },
     "metadata": {},
     "output_type": "display_data"
    }
   ],
   "source": [
    "profits = [system_e2()[0] for i in range(500)]\n",
    "T_400 = [system_e2()[1] for i in range(500)]\n",
    "plt.hist(profits)\n",
    "plt.title(\"distribution of the profit generated during the simulation time\")\n",
    "plt.xlabel(\"profit\")\n",
    "plt.ylabel(\"mass/density\")\n",
    "plt.show()\n",
    "plt.hist(T_400)\n",
    "plt.title(\"distribution of the time it takes to lose 400 customers\")\n",
    "plt.xlabel(\"time\")\n",
    "plt.ylabel(\"mass/density\")\n",
    "plt.show()"
   ]
  }
 ],
 "metadata": {
  "colab": {
   "collapsed_sections": [],
   "name": "HaoDi Liu - HW6 (IEOR 4404 Fall 2019) (1).ipynb",
   "provenance": [
    {
     "file_id": "1rSHqixCBUKORQHvHU3DKZmKEVclX65AX",
     "timestamp": 1573914583811
    },
    {
     "file_id": "1D_sI569hbsIkkPgyXmrwZnlz4Sk0r2EM",
     "timestamp": 1573683865121
    },
    {
     "file_id": "1KAQlY-b_5oTYAr2HqQm9gVy4UYwejk8w",
     "timestamp": 1573236060279
    },
    {
     "file_id": "1RAnoHD0pJ2hcpKoJH2MEDqFiN9P894XB",
     "timestamp": 1572752481047
    },
    {
     "file_id": "1d90xTvbs1HvPh5e5OWCWS2zb0aGawsUj",
     "timestamp": 1572747469532
    },
    {
     "file_id": "114Di_mbQAakdYMmzSq0QZdQi37dvCGlh",
     "timestamp": 1554755164840
    },
    {
     "file_id": "1rdwhuqgvFprHNMfLZrsZuuR7n_LtJ-2J",
     "timestamp": 1553825647633
    },
    {
     "file_id": "1JCSp6qEW5_aKWiT5cDoBJCYomWWZ7HHj",
     "timestamp": 1553783786349
    },
    {
     "file_id": "1QAwczu2Htj70o-gz0SNv9khVKhm-c9Nx",
     "timestamp": 1539964737693
    }
   ]
  },
  "kernelspec": {
   "display_name": "Python 3",
   "language": "python",
   "name": "python3"
  },
  "language_info": {
   "codemirror_mode": {
    "name": "ipython",
    "version": 3
   },
   "file_extension": ".py",
   "mimetype": "text/x-python",
   "name": "python",
   "nbconvert_exporter": "python",
   "pygments_lexer": "ipython3",
   "version": "3.6.5"
  }
 },
 "nbformat": 4,
 "nbformat_minor": 1
}
